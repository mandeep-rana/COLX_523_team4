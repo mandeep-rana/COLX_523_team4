{
 "cells": [
  {
   "cell_type": "markdown",
   "metadata": {},
   "source": [
    "# Team work contract"
   ]
  },
  {
   "cell_type": "markdown",
   "metadata": {},
   "source": [
    "## Repo organization\n",
    "\n",
    "1. **(Required)** All team members should never push directly to the master branch during the project. Instead, when one is ready to share their work, one should create a pull request to master which should be reviewed by 1 other member of the team."
   ]
  },
  {
   "cell_type": "markdown",
   "metadata": {},
   "source": [
    "## Project management\n",
    "\n",
    "1. **Project manager? other methods?**"
   ]
  },
  {
   "cell_type": "markdown",
   "metadata": {},
   "source": [
    "## Work distribution\n",
    "\n",
    "#### Work assignment\n",
    "\n",
    "1. Each milestone task shall be assigned to one or more team members. Work shall be distributed based on the following 2 criteria: \n",
    "    1. Each team member receives workload that is roughly equivalent to the same number of rubric points.\n",
    "        - That is, if the milestone of the week has rubric={accuracy:2,reasoning:2,writing:2,raw:2}, then each team member should receive workload that is roughly equivalent to 2 points.\n",
    "    2. Each team member shall work on a diverse range of tasks throughout the project.\n",
    "        - This is to give everyone a chance to code and to write, avoiding scenarios where one person codes the entire project (or one never codes).\n",
    "\n",
    "#### Documentation\n",
    "1. Work distribution shall be clearly documented at the beginning of the week.\n",
    "    1. This documentation shall act as a checklist for all members during the week, and a summary of each member's contribution at the end of the week."
   ]
  },
  {
   "cell_type": "markdown",
   "metadata": {},
   "source": [
    "## Work style\n",
    "\n",
    "#### Work hours\n",
    "\n",
    "1. Work hours are from 12:00 to 20:00 PST, Mondays to Saturdays.**subject to discuss** \n",
    "    1.  In particular, Saturdays shall be reserved for putting all members' work together and finalizing.\n",
    "2. Individual availability: **if applicable**\n",
    "    1. Derek:\n",
    "    2. Lisa:\n",
    "    3. Mandeep:\n",
    "    4. Mia:\n",
    "    \n",
    "#### Individual responsibility\n",
    "\n",
    "1. During work hours, all members are expected to be responsive on Slack unless emergency or team members are informed in advance.\n",
    "2. All members shall aim for individual work to be done before Saturdays. **subject to discuss**\n",
    "\n",
    "#### Progress documentation\n",
    "\n",
    "1. All members shall take responsibility to promptly update their progress through out the week on the checklist mentioned in `Work distribution` section.\n",
    "\n",
    "#### Quality of work\n",
    "\n",
    "1. All members shall devote significant time working on this project, it shall not be the least important work among all work in this block. **subject to discuss**\n",
    "2. All members should strive to give their best effort to the completion of the necessary components of the project. Optional tasks are not expected to be done until the mandatory tasks are done outstandingly. **subject to discuss**\n"
   ]
  },
  {
   "cell_type": "markdown",
   "metadata": {},
   "source": [
    "## Meeting style\n",
    "\n",
    "#### Frequency\n",
    "\n",
    "1. There shall be at least 3 zoom meetings in a week: the mentor meeting and 2 member-only meetings.\n",
    "    1. There shall be at least 1 team zoom meeting before the mentor meeting on Wednesdays 16:00 PST. **Time?**\n",
    "    2. There shall be 1 team zoom meeting every Saturday for a roundup.\n",
    "\n",
    "#### Meeting documentation\n",
    "\n",
    "1. **meeting agendas & minutes?**"
   ]
  },
  {
   "cell_type": "markdown",
   "metadata": {},
   "source": [
    "## Unacceptable behaviour\n",
    "\n",
    "1. No plagiarism.\n",
    "2. **Others?**"
   ]
  }
 ],
 "metadata": {
  "kernelspec": {
   "display_name": "Python 3",
   "language": "python",
   "name": "python3"
  },
  "language_info": {
   "codemirror_mode": {
    "name": "ipython",
    "version": 3
   },
   "file_extension": ".py",
   "mimetype": "text/x-python",
   "name": "python",
   "nbconvert_exporter": "python",
   "pygments_lexer": "ipython3",
   "version": "3.8.5"
  }
 },
 "nbformat": 4,
 "nbformat_minor": 4
}
