{
 "cells": [
  {
   "cell_type": "code",
   "execution_count": 47,
   "metadata": {},
   "outputs": [],
   "source": [
    "import requests\n",
    "from fake_useragent import UserAgent\n",
    "import time\n",
    "import json\n",
    "\n",
    "ua = UserAgent()\n",
    "headers = {'User-Agent': ua.random}"
   ]
  },
  {
   "cell_type": "code",
   "execution_count": 4,
   "metadata": {},
   "outputs": [],
   "source": [
    "from bs4 import BeautifulSoup"
   ]
  },
  {
   "cell_type": "code",
   "execution_count": 57,
   "metadata": {},
   "outputs": [],
   "source": [
    "def scrape_course_main_page(course_url):\n",
    "    html=requests.get(course_url).content\n",
    "    soup=BeautifulSoup(html)\n",
    "    instructor=soup.find('div',attrs={'class':'rc-BannerInstructorInfo'}).find('span').text\n",
    "    average_rating=soup.find('span',attrs={'class':'number-rating'}).text\n",
    "    title=soup.find('div',attrs={'class':'BannerTitle'}).find('h1').text\n",
    "    print(\"Course title: \",title)\n",
    "    print(\"Instructor: \",instructor)\n",
    "    print(\"Average course rating: \",average_rating)\n",
    "    \n",
    "\n",
    "def scrape_course_review(course_url,pgn):\n",
    "    review_url=course_url+'/reviews?page={}'.format(pgn)\n",
    "    html=requests.get(review_url).content\n",
    "    soup=BeautifulSoup(html)\n",
    "    for review in soup.findAll('div',attrs={'class':'review-page-review'}):\n",
    "        helpful_count=review.find('button',attrs={'class':'review-helpful-button'}).text\n",
    "        review_text=review.find('div',attrs={'class':'reviewText'}).text\n",
    "        reviewer=review.find('p',attrs={'class':'reviewerName'}).text\n",
    "        review_date=review.find('div',attrs={'class':'dateOfReview'}).text\n",
    "        star_box=review.find('div',attrs={'role':'img'})\n",
    "        star_count=len(star_box.findAll('title',string='Filled Star'))\n",
    "        print(\"Reviwer: \",reviewer)\n",
    "        print(\"Review Data: \",review_date)\n",
    "        print(\"Upvote: \",helpful_count)\n",
    "        print(\"Rating: \",star_count)\n",
    "        print(\"Review: \",review_text)\n",
    "        \n",
    "def scrape_course_list(pgn):\n",
    "    list_url='https://www.coursera.org/search?query=free&page={}&index=prod_all_products_term_optimization'.format(pgn)\n",
    "    html=requests.get(list_url).content\n",
    "    soup=BeautifulSoup(html)\n",
    "    list_obj=json.loads(soup.find('script',attrs={'type':'application/ld+json'}).string)\n",
    "    for course in list_obj['itemListElement']:\n",
    "        print(course['url'])"
   ]
  },
  {
   "cell_type": "code",
   "execution_count": 56,
   "metadata": {},
   "outputs": [
    {
     "name": "stdout",
     "output_type": "stream",
     "text": [
      "https://www.coursera.org/learn/machine-learning\n",
      "https://www.coursera.org/learn/the-science-of-well-being\n",
      "https://www.coursera.org/learn/indigenous-canada\n",
      "https://www.coursera.org/learn/financial-markets-global\n",
      "https://www.coursera.org/learn/introduction-psychology\n",
      "https://www.coursera.org/learn/psychological-first-aid\n",
      "https://www.coursera.org/learn/learn-korean\n",
      "https://www.coursera.org/learn/negotiation-skills\n",
      "https://www.coursera.org/learn/sciwrite\n",
      "https://www.coursera.org/learn/brand\n"
     ]
    }
   ],
   "source": [
    "scrape_course_list(1)"
   ]
  },
  {
   "cell_type": "code",
   "execution_count": 58,
   "metadata": {},
   "outputs": [
    {
     "name": "stdout",
     "output_type": "stream",
     "text": [
      "Course title:  The Science of Well-Being\n",
      "Instructor:  Laurie Santos \n",
      "Average course rating:  4.9stars\n"
     ]
    }
   ],
   "source": [
    "scrape_course_main_page(\"https://www.coursera.org/learn/the-science-of-well-being\")"
   ]
  },
  {
   "cell_type": "code",
   "execution_count": 59,
   "metadata": {},
   "outputs": [
    {
     "name": "stdout",
     "output_type": "stream",
     "text": [
      "Reviwer:  By Jean L\n",
      "Review Data:  Feb 12, 2019\n",
      "Upvote:  Thumbs UpThis is helpful (261)\n",
      "Rating:  5\n",
      "Review:  Dr. Santos, I am a retired psychotherapist who started my professional life at Yale.  This course has been extraordinarily helpful because I have my health, a loving family, more money than I need (and yes I find great satisfaction giving it to others) and yet it is by its very nature a time of life that can be difficult.  I am fortunate to be an active competitive tennis player, yoga devotee, dog walker, an art docent, etc. but it is difficult to be bombarded by the death of family members, friends, etc. I was prompted to take this course by the death of my sister, a federal judge, 10 years younger than me 2 months ago which prompted the question, “How can one continue to live life to the fullest when reality is painful?”I wanted to pass on to you that this course has helped me recenter and to feel that there are things that I can do to enjoy living without perseverating about the negatives.  It has even helped my tennis game!  I have read Flourish, Thanks and Mindfulness for Beginners. And I have become an advocate of the course, sharing details with friends I hope will take it.Thank you,Jean\n",
      "Reviwer:  By GAGANDEEP K\n",
      "Review Data:  Jun 3, 2019\n",
      "Upvote:  Thumbs UpThis is helpful (130)\n",
      "Rating:  5\n",
      "Review:  I have taken a dozen courses online. This is the most challenging and fulfilling course I have taken so far. And I believe that the course shall be beneficial to all people in different walks of life.\n",
      "Reviwer:  By Julia H\n",
      "Review Data:  May 1, 2018\n",
      "Upvote:  Thumbs UpThis is helpful (112)\n",
      "Rating:  1\n",
      "Review:  The course is mostly about the opinion of the lecturer, which can be summed up to \"social media is bad\" and \"money doesn't make you happy\".  A very simple minded world view is presented, without critical notions challenging that view or the more complex science behind emotions.From Yale I would have expected a course that challenges such simple views and empoweres students to find the ideal path for themselves.\n",
      "Reviwer:  By Ezra N\n",
      "Review Data:  May 31, 2019\n",
      "Upvote:  Thumbs UpThis is helpful (83)\n",
      "Rating:  5\n",
      "Review:  I absolutely enjoyed and learned a lot about happiness from this course. I will definitely recommend it to my peers, as it gets me to the core from my misconceptions to developing the right practices.\n",
      "Reviwer:  By Biljana T\n",
      "Review Data:  Nov 26, 2019\n",
      "Upvote:  Thumbs UpThis is helpful (70)\n",
      "Rating:  5\n",
      "Review:  Loved the practical \"rewiring\" assignments that  helped me with understanding what really makes us happy. Not only this course changed my life perspective but enriched the lives of the people around me\n",
      "Reviwer:  By Mario L V\n",
      "Review Data:  Jan 31, 2019\n",
      "Upvote:  Thumbs UpThis is helpful (66)\n",
      "Rating:  5\n",
      "Review:  This is an outstanding course! I was able to change into a more positive and productive mindset as taught in this course. I highly recommend it to everyone regardless of your profession or background. \n",
      "Reviwer:  By James S\n",
      "Review Data:  Apr 8, 2019\n",
      "Upvote:  Thumbs UpThis is helpful (63)\n",
      "Rating:  1\n",
      "Review:  She ruined a perfectly good idea.  From the synopsis, I realize that I have followed the precepts for years to be happy.  This professor infused politics into her first week of lectures and ruined the good idea.           I also learned long ago to walk away from negative people who want to rule other people (tell them who to vote for, tell them how to eat, tell them how to rear their children, tell them how to feel about religion, etc).  This is me walking away.\n",
      "Reviwer:  By Robert W\n",
      "Review Data:  Aug 10, 2018\n",
      "Upvote:  Thumbs UpThis is helpful (56)\n",
      "Rating:  5\n",
      "Review:  So far so good. I enjoy the savoring and the gratitude i am continuing with. I am sharing my experiences and findings with my friends. They are happy to hear what i am explaining to them. Thanks, Bob\n",
      "Reviwer:  By Jenny s\n",
      "Review Data:  May 20, 2019\n",
      "Upvote:  Thumbs UpThis is helpful (44)\n",
      "Rating:  5\n",
      "Review:  This is the BEST course in coursera I've ever had. Living the good life weans you feel happy and fulfilled every day. This course changed my definition a lot. Initially I thought well-being is about your own life, nothing about others. But social connection maters a lot, to be connected with others, even talk to strangers would make you happy. On the other hand, I didn't realize exercise and sleep would be the magic medicine what makes you younger, more beautiful, thinner and with no side effect. I was so busy to work out and think only elderly needs to sleep longer, but I was wrong, after two weeks practice, exercises and sleep more lifted my happiness level a lot higher. I'm so grateful that I've choosen to study this course. Highly recommend to everyone who wants to be happier in life. \n",
      "Reviwer:  By Jason S\n",
      "Review Data:  Oct 10, 2019\n",
      "Upvote:  Thumbs UpThis is helpful (42)\n",
      "Rating:  1\n",
      "Review:  I have a hard time listening to these lectures because she up-talks (ends every other sentence on a high inflection note) which is very distracting.  She also employs vocal fry, another distracting habit, that she would do well to eliminate.  Also, she's taking credit for being the first to identify that you don't just need to know something but have to practice it,  to be good at it, and naming it the GI Joe Fallacy.  Surely this is not an original (or even profound) insight , as most everyone already knows this from trying to learn an instrument, a sport, solving math problems.\n",
      "Reviwer:  By Melissa B\n",
      "Review Data:  Nov 12, 2018\n",
      "Upvote:  Thumbs UpThis is helpful (35)\n",
      "Rating:  5\n",
      "Review:  Having spent thousands on life coaches and getting little in return, growing more frustrated (and poorer!) with a lack of result and my objections met with being asked to \"trust the process.\" Thank goodness  I finally found this course. It helped me understand how and why I feel and behave the way I do. Grounded in science, evidence based, no faith required! More importantly, it walked me through a process that helped me finally make some changes I needed to make, while discarding the \"goals\" that I realised did little to serve my wellbeing. \n",
      "Reviwer:  By Heidi w\n",
      "Review Data:  Feb 6, 2019\n",
      "Upvote:  Thumbs UpThis is helpful (35)\n",
      "Rating:  3\n",
      "Review:  For me it was a bit research/data heavy. So much of what I learned in the course I had heard from spiritual leaders such as Pema Chodron and Thich Nhat Hanh. Or from yoga and meditation. I think the course should have an actual yoga and meditation session in it. Its ironic that the premise of the course is that \"knowing is not enough\" yet the there is sooooo much emphasis on the data. There should be more emphasis on experience. \n",
      "Reviwer:  By Joe H\n",
      "Review Data:  Jun 5, 2020\n",
      "Upvote:  Thumbs UpThis is helpful (29)\n",
      "Rating:  5\n",
      "Review:  I couldn't have asked for a better class to be offered during this time. Got to learn a lot about myself and why I think or do certain things without even thinking about it. Thank you for this course!\n",
      "Reviwer:  By Jennifer S\n",
      "Review Data:  Dec 31, 2019\n",
      "Upvote:  Thumbs UpThis is helpful (27)\n",
      "Rating:  1\n",
      "Review:  The course was interesting in terms of the statistics presented however it was VERY basic in concepts. Most examples given were geared towards millennial's and college students. I found the class to be quite boring at times and would have preferred her to introduce more complex concepts and information. I expected much more from Yale and this class was a bit disappointing. You can learn an entire weeks lecture from one CNN or NYT article. \n",
      "Reviwer:  By Abby D\n",
      "Review Data:  Mar 14, 2019\n",
      "Upvote:  Thumbs UpThis is helpful (21)\n",
      "Rating:  5\n",
      "Review:  I absolutely loved this course. Easy to follow, interesting, scientifically backed, and just a joy to participate in. The professor was fantastic, and I learned a lot of easy strategies for myself, and to share with others, to increase happiness in every aspect of life. Thank you Yale and Coursera!\n",
      "Reviwer:  By Abigail A\n",
      "Review Data:  Jul 7, 2019\n",
      "Upvote:  Thumbs UpThis is helpful (21)\n",
      "Rating:  1\n",
      "Review:  I think everything done through technology worked well. However, racial discrimination and gender discrimination was very much shown in grading process. I worked very hard and was discriminated against for being a white female.\n",
      "Reviwer:  By Gavin N\n",
      "Review Data:  Jun 14, 2018\n",
      "Upvote:  Thumbs UpThis is helpful (18)\n",
      "Rating:  5\n",
      "Review:  Exceptional course to understand the empirical science behind real well-being. Prof Santos' conversational teaching style is easy to follow - just great. I have recommended the course to others.\n",
      "Reviwer:  By Jonathan G\n",
      "Review Data:  Aug 15, 2018\n",
      "Upvote:  Thumbs UpThis is helpful (18)\n",
      "Rating:  3\n",
      "Review:   very good course! However, it was extremely condescending and felt trivial or unnecessary during a lot of it. Of course anyone can set their own goals, but you don't need a course  to do that!\n",
      "Reviwer:  By MaryEllen H\n",
      "Review Data:  May 7, 2020\n",
      "Upvote:  Thumbs UpThis is helpful (17)\n",
      "Rating:  5\n",
      "Review:  Dr Santos is engaging and honest. This course was a very helpful and productive way for me to spend some long pandemic days. I honestly feel that I will carry what I have learned through out my life. \n",
      "Reviwer:  By Kristina V\n",
      "Review Data:  Jun 15, 2020\n",
      "Upvote:  Thumbs UpThis is helpful (16)\n",
      "Rating:  5\n",
      "Review:  This course helped me think of news ways to think and new ways to reach certain goals that I would have not thought about. It's kind of long but I was interested and completed the course feeling good. \n",
      "Reviwer:  By elazar p\n",
      "Review Data:  Sep 11, 2018\n",
      "Upvote:  Thumbs UpThis is helpful (15)\n",
      "Rating:  5\n",
      "Review:    The course renewed a number of things but mainly helped me focus on things that would increase my satisfaction with the things I do. As well as helping me reduce the frustrating gap between unrealistic aspirations on the way to achieve a sense of happiness and what I really have in my life, which is enough to live a life of satisfaction and quality of life.I fully recommend the course.  \n",
      "Reviwer:  By James [ M\n",
      "Review Data:  May 18, 2019\n",
      "Upvote:  Thumbs UpThis is helpful (15)\n",
      "Rating:  5\n",
      "Review:  Combination of video, readings and 'rewirements' along with all the research studies makes this a great course.\n",
      "Reviwer:  By Melissa M G P\n",
      "Review Data:  Mar 30, 2020\n",
      "Upvote:  Thumbs UpThis is helpful (15)\n",
      "Rating:  5\n",
      "Review:  Perfect way to spend a stressful COVID quarantine!\n",
      "Reviwer:  By Douglas F\n",
      "Review Data:  Mar 28, 2020\n",
      "Upvote:  Thumbs UpThis is helpful (14)\n",
      "Rating:  5\n",
      "Review:  Great course. I've recommended it to my friends and family.\n",
      "Reviwer:  By Jessica R\n",
      "Review Data:  Jun 16, 2020\n",
      "Upvote:  Thumbs UpThis is helpful (13)\n",
      "Rating:  5\n",
      "Review:  Love this course! Best class I’ve taken. I teach Social Skills and there are so many things I can incorporate into my classes as well as tools I can use in my own life! - Thank You!             Jessica Rhoades\n"
     ]
    }
   ],
   "source": [
    "scrape_course_review('https://www.coursera.org/learn/the-science-of-well-being',1)"
   ]
  },
  {
   "cell_type": "code",
   "execution_count": null,
   "metadata": {},
   "outputs": [],
   "source": []
  }
 ],
 "metadata": {
  "kernelspec": {
   "display_name": "Python 3",
   "language": "python",
   "name": "python3"
  },
  "language_info": {
   "codemirror_mode": {
    "name": "ipython",
    "version": 3
   },
   "file_extension": ".py",
   "mimetype": "text/x-python",
   "name": "python",
   "nbconvert_exporter": "python",
   "pygments_lexer": "ipython3",
   "version": "3.7.7"
  }
 },
 "nbformat": 4,
 "nbformat_minor": 4
}
