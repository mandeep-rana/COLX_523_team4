{
 "cells": [
  {
   "cell_type": "code",
   "execution_count": 48,
   "metadata": {},
   "outputs": [],
   "source": [
    "import pandas as pd\n",
    "from collections import defaultdict\n",
    "import sqlite3\n",
    "import json"
   ]
  },
  {
   "cell_type": "code",
   "execution_count": 49,
   "metadata": {},
   "outputs": [],
   "source": [
    "ann_table=\"\"\"\n",
    "CREATE TABLE if not exists \"annotation\" (\n",
    "\t\"id\"\tTEXT NOT NULL UNIQUE,\n",
    "\t\"content\"\tTEXT,\n",
    "\t\"course_delivery\"\tTEXT,\n",
    "\t\"difficulty\"\tTEXT,\n",
    "\t\"workload\"\tTEXT,\n",
    "\t\"usefulness\"\tTEXT,\n",
    "\tPRIMARY KEY(\"id\")\n",
    ");\n",
    "\"\"\""
   ]
  },
  {
   "cell_type": "code",
   "execution_count": 50,
   "metadata": {},
   "outputs": [],
   "source": [
    "db_name='d2.db'\n",
    "ann_fname='reviews_full_annotated.csv'"
   ]
  },
  {
   "cell_type": "code",
   "execution_count": 51,
   "metadata": {},
   "outputs": [],
   "source": [
    "def convert2annotation_dict(fname):\n",
    "    annotated=pd.read_csv(fname)\n",
    "    annotated=annotated.to_dict('records')\n",
    "    blank_annotation=defaultdict(lambda: defaultdict(int))\n",
    "    for i in annotated:\n",
    "        identified_facets=json.loads(i['Answer.taskAnswers'])[0]['category']['labels']\n",
    "        for identified in identified_facets:\n",
    "            blank_annotation[i['Input.text']][identified]+=1\n",
    "    return blank_annotation"
   ]
  },
  {
   "cell_type": "code",
   "execution_count": 52,
   "metadata": {},
   "outputs": [],
   "source": [
    "def txt2id(fname):\n",
    "    t2i_dict={}\n",
    "    t2i=pd.read_csv(fname)\n",
    "    t2i=t2i.to_dict('records')\n",
    "    for i in t2i:\n",
    "        t2i_dict[i['review']]=i['id']\n",
    "    return t2i_dict"
   ]
  },
  {
   "cell_type": "code",
   "execution_count": 91,
   "metadata": {},
   "outputs": [],
   "source": [
    "def import2db(db_name,fname,t2i_dict):\n",
    "    conn=sqlite3.connect(db_name)\n",
    "    cur=conn.cursor()\n",
    "    cur.execute(ann_table)\n",
    "    ann=convert2annotation_dict(fname)\n",
    "        \n",
    "    db_fields=['content','course_delivery','difficulty','workload','usefulness']\n",
    "    amz_fields=['Content','Course delivery','Difficulty','Workload','Usefulness']\n",
    "    review_k=[i for i in ann.keys()] #have to make ann keys static since ann is default dict\n",
    "    \n",
    "    for review in review_k:\n",
    "        insert_template=\"\"\"\n",
    "        INSERT INTO annotation (id,{}) VALUES (?,?,?,?,?,?) \n",
    "        on CONFLICT(id) DO UPDATE SET  id=id\n",
    "        \"\"\".format(\",\".join(db_fields))\n",
    "        insert_val=[t2i_dict[review],]\n",
    "        for k in amz_fields:\n",
    "            if ann[review][k]>=2:\n",
    "                insert_val.append('T')\n",
    "            else:\n",
    "                insert_val.append('F')\n",
    "        cur.execute(insert_template,insert_val)\n",
    "        conn.commit()\n",
    "        \n",
    "    conn.commit()\n",
    "    cur.close()\n",
    "    conn.close()\n"
   ]
  },
  {
   "cell_type": "code",
   "execution_count": 92,
   "metadata": {},
   "outputs": [],
   "source": [
    "t2i_dict=txt2id('reviews_id_full.csv')"
   ]
  },
  {
   "cell_type": "code",
   "execution_count": 93,
   "metadata": {},
   "outputs": [],
   "source": [
    "import2db(db_name,ann_fname,t2i_dict)"
   ]
  }
 ],
 "metadata": {
  "kernelspec": {
   "display_name": "Python 3",
   "language": "python",
   "name": "python3"
  },
  "language_info": {
   "codemirror_mode": {
    "name": "ipython",
    "version": 3
   },
   "file_extension": ".py",
   "mimetype": "text/x-python",
   "name": "python",
   "nbconvert_exporter": "python",
   "pygments_lexer": "ipython3",
   "version": "3.7.7"
  }
 },
 "nbformat": 4,
 "nbformat_minor": 4
}
