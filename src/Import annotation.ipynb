{
 "cells": [
  {
   "cell_type": "code",
   "execution_count": null,
   "metadata": {},
   "outputs": [],
   "source": [
    "import pandas as pd\n",
    "from collections import defaultdict\n",
    "import nltk\n",
    "import json\n",
    "from nltk.metrics.agreement import AnnotationTask"
   ]
  },
  {
   "cell_type": "code",
   "execution_count": null,
   "metadata": {},
   "outputs": [],
   "source": [
    "def convert2annotation_dict(fname):\n",
    "    annotated=pd.read_csv(fname)\n",
    "    annotated=annotated.to_dict('records')\n",
    "    blank_annotation={'Content':defaultdict(lambda: defaultdict(list)),\n",
    "                      'Course delivery':defaultdict(lambda: defaultdict(list)),\n",
    "                      'Difficulty':defaultdict(lambda: defaultdict(list)),\n",
    "                      'Workload':defaultdict(lambda: defaultdict(list)),\n",
    "                      'Usefulness':defaultdict(lambda: defaultdict(list))}\n",
    "    for i in annotated:\n",
    "        identified_facets=json.loads(i['Answer.taskAnswers'])[0]['category']['labels']\n",
    "        for facet in blank_annotation.keys():#initialize all to False by default\n",
    "            blank_annotation[facet][i['HITId']][i['WorkerId']]='F'\n",
    "        for identified in identified_facets:\n",
    "            blank_annotation[identified][i['HITId']][i['WorkerId']]='T'\n",
    "    return blank_annotation"
   ]
  },
  {
   "cell_type": "code",
   "execution_count": null,
   "metadata": {},
   "outputs": [],
   "source": []
  }
 ],
 "metadata": {
  "kernelspec": {
   "display_name": "Python 3",
   "language": "python",
   "name": "python3"
  },
  "language_info": {
   "codemirror_mode": {
    "name": "ipython",
    "version": 3
   },
   "file_extension": ".py",
   "mimetype": "text/x-python",
   "name": "python",
   "nbconvert_exporter": "python",
   "pygments_lexer": "ipython3",
   "version": "3.7.7"
  }
 },
 "nbformat": 4,
 "nbformat_minor": 4
}
